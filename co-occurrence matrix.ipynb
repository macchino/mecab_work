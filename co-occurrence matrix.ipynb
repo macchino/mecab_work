{
 "cells": [
  {
   "cell_type": "markdown",
   "metadata": {},
   "source": [
    "# co-occurrence matrix\n",
    " - 共起行列"
   ]
  },
  {
   "cell_type": "code",
   "execution_count": 5,
   "metadata": {},
   "outputs": [],
   "source": [
    "import numpy as np\n",
    "import MeCab"
   ]
  },
  {
   "cell_type": "code",
   "execution_count": 27,
   "metadata": {},
   "outputs": [],
   "source": [
    "def co_matrix(corpus, sep=' ', window_size = 1): #window_sizeを前後の文字をいくつ取るか\n",
    "    word_to_id= {}\n",
    "    id_to_word= {}\n",
    "    cnt= 0\n",
    "    #Wordにidを振る\n",
    "    for co in corpus:\n",
    "        for c in co.split(sep):\n",
    "            if c not in word_to_id:\n",
    "                word_to_id[c] = cnt\n",
    "                id_to_word[cnt] = c\n",
    "                cnt += 1   \n",
    "                \n",
    "    vocab_size = len(word_to_id)\n",
    "    #出てきた単語数の正方行列を作成する。\n",
    "    co_matrix = np.zeros((vocab_size , vocab_size)) #numpy.zeros(): 0で初期化（ゼロ埋め）\n",
    "    for co in corpus:\n",
    "        corpus_words = co.split(sep)\n",
    "        #文章のword数をセット\n",
    "        corpus_size = len(corpus_words)\n",
    "        for idx, c in enumerate(corpus_words):\n",
    "            #wordのidを取得する\n",
    "            center_index = word_to_id[c]\n",
    "            #window_sizeの数だけループ\n",
    "            for diff in range(1 , window_size + 1):\n",
    "                #対象の単語より前側を共起させる\n",
    "                if idx - diff >= 0 :\n",
    "                    left_word = corpus_words[idx - diff]\n",
    "                    left_index = word_to_id[left_word]\n",
    "                    co_matrix[center_index, left_index] += 1\n",
    "                \n",
    "                #対象の単語より後ろ側を共起させる\n",
    "                if idx + diff < corpus_size:\n",
    "                    right_word = corpus_words[idx + diff]\n",
    "                    right_index = word_to_id[right_word]\n",
    "                    co_matrix[center_index, right_index] += 1\n",
    "    return word_to_id, id_to_word, co_matrix"
   ]
  },
  {
   "cell_type": "code",
   "execution_count": 20,
   "metadata": {},
   "outputs": [
    {
     "data": {
      "text/plain": [
       "({'私': 0, '東京駅': 1, '行く': 2, '山手線': 3, '乗る': 4},\n",
       " {0: '私', 1: '東京駅', 2: '行く', 3: '山手線', 4: '乗る'},\n",
       " array([[0., 1., 0., 0., 0.],\n",
       "        [1., 0., 2., 1., 0.],\n",
       "        [0., 2., 0., 0., 0.],\n",
       "        [0., 1., 0., 0., 1.],\n",
       "        [0., 0., 0., 1., 0.]]))"
      ]
     },
     "execution_count": 20,
     "metadata": {},
     "output_type": "execute_result"
    }
   ],
   "source": [
    "co_matrix(['私 東京駅 行く 東京駅 山手線 乗る'])"
   ]
  },
  {
   "cell_type": "code",
   "execution_count": null,
   "metadata": {},
   "outputs": [],
   "source": []
  }
 ],
 "metadata": {
  "kernelspec": {
   "display_name": "Python 3",
   "language": "python",
   "name": "python3"
  },
  "language_info": {
   "codemirror_mode": {
    "name": "ipython",
    "version": 3
   },
   "file_extension": ".py",
   "mimetype": "text/x-python",
   "name": "python",
   "nbconvert_exporter": "python",
   "pygments_lexer": "ipython3",
   "version": "3.8.5"
  }
 },
 "nbformat": 4,
 "nbformat_minor": 4
}
