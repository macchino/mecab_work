{
 "cells": [
  {
   "cell_type": "markdown",
   "metadata": {},
   "source": [
    "# co-occurrence matrix\n",
    " - 共起行列"
   ]
  },
  {
   "cell_type": "code",
   "execution_count": 5,
   "metadata": {},
   "outputs": [],
   "source": [
    "import numpy as np\n",
    "import MeCab"
   ]
  },
  {
   "cell_type": "code",
   "execution_count": 6,
   "metadata": {},
   "outputs": [],
   "source": [
    "def co_matrix(corpus, sep=' ', window_size = 1): #window_sizeを前後の文字をいくつ取るか\n",
    "    word_to_id= {}\n",
    "    id_to_word= {}\n",
    "    cnt= 0\n",
    "    #Wordにidを振る\n",
    "    for co in corpus:\n",
    "        for c in co.split(sep):\n",
    "            if c not in word_to_id:\n",
    "                word_to_id[c] = cnt\n",
    "                id_to_word[cnt] = c\n",
    "                cnt += 1   \n",
    "                \n",
    "    vocab_size = len(word_to_id)\n",
    "    #出てきた単語数の正方行列を作成する。\n",
    "    co_matrix = np.zeros((vocab_size , vocab_size)) #numpy.zeros(): 0で初期化（ゼロ埋め）\n",
    "    for co in corpus:\n",
    "        corpus_words = co.split(sep)\n",
    "        #文章のword数をセット\n",
    "        corpus_size = len(corpus_words)\n",
    "        for idx, c in enumerate(corpus_words):\n",
    "            #wordのidを取得する\n",
    "            center_index = word_to_id[c]\n",
    "            #window_sizeの数だけループ\n",
    "            for diff in range(1 , window_size + 1):\n",
    "                #対象の単語より前側を共起させる\n",
    "                if idx - diff >= 0 :\n",
    "                    left_word = corpus_words[idx - diff]\n",
    "                    left_index = word_to_id[left_word]\n",
    "                    co_matrix[center_index, left_index] += 1\n",
    "                \n",
    "                #対象の単語より後ろ側を共起させる\n",
    "                if idx + diff < corpus_size:\n",
    "                    right_word = corpus_words[idx + diff]\n",
    "                    right_index = word_to_id[right_word]\n",
    "                    co_matrix[center_index, right_index] += 1\n",
    "    return word_to_id, id_to_word, co_matrix"
   ]
  },
  {
   "cell_type": "code",
   "execution_count": 7,
   "metadata": {},
   "outputs": [
    {
     "data": {
      "text/plain": [
       "({'私': 0, '東京駅': 1, '行く': 2, '山手線': 3, '乗る': 4},\n",
       " {0: '私', 1: '東京駅', 2: '行く', 3: '山手線', 4: '乗る'},\n",
       " array([[0., 1., 0., 0., 0.],\n",
       "        [1., 0., 2., 1., 0.],\n",
       "        [0., 2., 0., 0., 0.],\n",
       "        [0., 1., 0., 0., 1.],\n",
       "        [0., 0., 0., 1., 0.]]))"
      ]
     },
     "execution_count": 7,
     "metadata": {},
     "output_type": "execute_result"
    }
   ],
   "source": [
    "co_matrix(['私 東京駅 行く 東京駅 山手線 乗る'])"
   ]
  },
  {
   "cell_type": "markdown",
   "metadata": {},
   "source": [
    "# 相互情報量\n",
    "\n",
    "$$\n",
    "\\textrm{PMI} \\left( x, y \\right) = \\log_{2} \\frac{P \\left(x,y \\right)}{P \\left(x \\right) P \\left(y \\right)} \\\\\n",
    "\\textrm{PPMI} \\left( x, y \\right) = \\max \\left[0, \\textrm{PMI}\\left( x, y \\right) \\right]\n",
    "$$"
   ]
  },
  {
   "cell_type": "code",
   "execution_count": 10,
   "metadata": {},
   "outputs": [],
   "source": [
    "def ppmi(C, delta=1e-8):\n",
    "    M = np.zeros_like(C, dtype=np.float32)\n",
    "    N = np.sum(C)\n",
    "    #単語ごとの個数の合計を求める。\n",
    "    S = np.sum(C, axis=0)\n",
    "    for i in range(C.shape[0]):\n",
    "        for j in range(C.shape[1]):\n",
    "            pmi = np.log(C[i, j] * N / S[i]*S[j] + delta)\n",
    "            M[i , j] = max(0, pmi)\n",
    "            \n",
    "    return M"
   ]
  },
  {
   "cell_type": "code",
   "execution_count": 11,
   "metadata": {},
   "outputs": [
    {
     "name": "stdout",
     "output_type": "stream",
     "text": [
      "[[0. 1. 0. 0. 0. 0. 0. 0. 0. 0. 0.]\n",
      " [1. 0. 1. 1. 0. 1. 0. 0. 1. 0. 0.]\n",
      " [0. 1. 0. 0. 0. 0. 0. 0. 0. 0. 0.]\n",
      " [0. 1. 0. 0. 1. 0. 0. 0. 0. 0. 0.]\n",
      " [0. 0. 0. 1. 0. 0. 0. 0. 0. 0. 0.]\n",
      " [0. 1. 0. 0. 0. 0. 1. 0. 0. 0. 0.]\n",
      " [0. 0. 0. 0. 0. 1. 0. 1. 0. 0. 0.]\n",
      " [0. 0. 0. 0. 0. 0. 1. 0. 0. 0. 0.]\n",
      " [0. 1. 0. 0. 0. 0. 0. 0. 2. 1. 0.]\n",
      " [0. 0. 0. 0. 0. 0. 0. 0. 1. 0. 1.]\n",
      " [0. 0. 0. 0. 0. 0. 0. 0. 0. 1. 0.]]\n"
     ]
    },
    {
     "data": {
      "text/plain": [
       "array([[0.       , 4.7004805, 0.       , 0.       , 0.       , 0.       ,\n",
       "        0.       , 0.       , 0.       , 0.       , 0.       ],\n",
       "       [1.4816046, 0.       , 1.4816046, 2.1747518, 0.       , 2.1747518,\n",
       "        0.       , 0.       , 2.867899 , 0.       , 0.       ],\n",
       "       [0.       , 4.7004805, 0.       , 0.       , 0.       , 0.       ,\n",
       "        0.       , 0.       , 0.       , 0.       , 0.       ],\n",
       "       [0.       , 4.0073333, 0.       , 0.       , 2.3978953, 0.       ,\n",
       "        0.       , 0.       , 0.       , 0.       , 0.       ],\n",
       "       [0.       , 0.       , 0.       , 3.7841897, 0.       , 0.       ,\n",
       "        0.       , 0.       , 0.       , 0.       , 0.       ],\n",
       "       [0.       , 4.0073333, 0.       , 0.       , 0.       , 0.       ,\n",
       "        3.0910425, 0.       , 0.       , 0.       , 0.       ],\n",
       "       [0.       , 0.       , 0.       , 0.       , 0.       , 3.0910425,\n",
       "        0.       , 2.3978953, 0.       , 0.       , 0.       ],\n",
       "       [0.       , 0.       , 0.       , 0.       , 0.       , 0.       ,\n",
       "        3.7841897, 0.       , 0.       , 0.       , 0.       ],\n",
       "       [0.       , 3.314186 , 0.       , 0.       , 0.       , 0.       ,\n",
       "        0.       , 0.       , 3.7841897, 2.3978953, 0.       ],\n",
       "       [0.       , 0.       , 0.       , 0.       , 0.       , 0.       ,\n",
       "        0.       , 0.       , 3.7841897, 0.       , 2.3978953],\n",
       "       [0.       , 0.       , 0.       , 0.       , 0.       , 0.       ,\n",
       "        0.       , 0.       , 0.       , 3.7841897, 0.       ]],\n",
       "      dtype=float32)"
      ]
     },
     "execution_count": 11,
     "metadata": {},
     "output_type": "execute_result"
    }
   ],
   "source": [
    "_, _,m = co_matrix(['私 東京駅 行く', '東京駅 山手線 乗る','東京駅 品川駅 東海道新幹線 一駅','東京駅 大宮 大宮 東北新幹線 乗り換える'], window_size=1)\n",
    "print(m)\n",
    "ppmi(m)"
   ]
  },
  {
   "cell_type": "code",
   "execution_count": null,
   "metadata": {},
   "outputs": [],
   "source": []
  }
 ],
 "metadata": {
  "kernelspec": {
   "display_name": "Python 3",
   "language": "python",
   "name": "python3"
  },
  "language_info": {
   "codemirror_mode": {
    "name": "ipython",
    "version": 3
   },
   "file_extension": ".py",
   "mimetype": "text/x-python",
   "name": "python",
   "nbconvert_exporter": "python",
   "pygments_lexer": "ipython3",
   "version": "3.8.5"
  }
 },
 "nbformat": 4,
 "nbformat_minor": 4
}
