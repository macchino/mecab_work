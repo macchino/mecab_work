{
 "cells": [
  {
   "cell_type": "code",
   "execution_count": 1,
   "metadata": {},
   "outputs": [],
   "source": [
    "import numpy as np"
   ]
  },
  {
   "cell_type": "code",
   "execution_count": 1,
   "metadata": {},
   "outputs": [],
   "source": [
    "def text_to_words(text, stop_word_pass='./Japanese.txt'):\n",
    "    # stopword listをつくる\n",
    "    stopword_list = []\n",
    "    with open(stop_word_pass, 'r') as f:\n",
    "        stopword_list = f.readlines()\n",
    "        \n",
    "    stopword_list = [x.strip() for x in stopword_list if x.strip()] \n",
    "    #形態素解析を始める\n",
    "    m = MeCab.Tagger('-d /usr/lib/x86_64-linux-gnu/mecab/dic/mecab-ipadic-neologd')\n",
    "    m.parse('')\n",
    "    #text = normalize_text(text)\n",
    "    text = mojimoji.zen_to_han(text, kana=False)\n",
    "    m_text = m.parse(text)\n",
    "    basic_words = []\n",
    "    #mecabの出力結果を単語ごとにリスト化\n",
    "    m_text = m_text.split('\\n')\n",
    "    for row in m_text:\n",
    "        #Tab区切りで形態素、その品詞等の内容と分かれているので単語部のみ取得\n",
    "        word = row.split(\"\\t\")[0]\n",
    "        #最終行はEOS\n",
    "        if word == 'EOS':\n",
    "            break\n",
    "        else:\n",
    "            pos = row.split('\\t')[1]\n",
    "            slice_ = pos.split(',')\n",
    "            #品詞を取得する\n",
    "            parts = slice_[0]\n",
    "            if parts == '記号':\n",
    "                continue\n",
    "\n",
    "            #活用語の場合は活用指定ない原型を取得する。\n",
    "            elif slice_[0] in ('形容詞', '動詞') and slice_[-3] not in stopword_list:\n",
    "                    basic_words.append(slice_[-3])\n",
    "\n",
    "            #活用しない語についてはそのままの語を取得する\n",
    "            elif slice_[0] =='名詞' and word not in stopword_list:\n",
    "                basic_words.append(word)\n",
    "\n",
    "    basic_words = ' '.join(basic_words)\n",
    "    return basic_words"
   ]
  },
  {
   "cell_type": "markdown",
   "metadata": {},
   "source": [
    "# 共起行列"
   ]
  },
  {
   "cell_type": "code",
   "execution_count": 3,
   "metadata": {},
   "outputs": [],
   "source": [
    "def co_matrix(corpus, sep=' ', window_size=1):\n",
    "    word_to_id = {}\n",
    "    id_to_word = {}\n",
    "    cnt = 0\n",
    "    # Wordにidを振る\n",
    "    for co in corpus:\n",
    "        for c in co.split(sep):\n",
    "            if c not in word_to_id:\n",
    "                word_to_id[c] = cnt\n",
    "                id_to_word[cnt] = c\n",
    "                cnt += 1\n",
    "    \n",
    "    vocab_size = len(word_to_id)\n",
    "    #出てきた単語数の正方行列を作成する。\n",
    "    co_matrix = np.zeros((vocab_size, vocab_size))\n",
    "    for co in corpus:\n",
    "        corpus_words = co.split(sep)\n",
    "        #文書のword数をセット\n",
    "        corpus_size = len(corpus_words)\n",
    "        for idx, c in enumerate(corpus_words):\n",
    "            # wordのidを取得する\n",
    "            center_index = word_to_id[c]\n",
    "            # window_sizeの数だけループ\n",
    "            for diff in range(1, window_size+1):\n",
    "                # 対象の単語より前側を共起させる\n",
    "                if idx - diff >=0:\n",
    "                    left_word = corpus_words[idx - diff]\n",
    "                    left_index = word_to_id[left_word]\n",
    "                    co_matrix[center_index, left_index] +=1\n",
    "                    \n",
    "                # 対象の単語より後ろ側を共起させる\n",
    "                if idx + diff < corpus_size:\n",
    "                    right_word = corpus_words[idx + diff]\n",
    "                    right_index = word_to_id[right_word]\n",
    "                    co_matrix[center_index, right_index] += 1\n",
    "                    \n",
    "    return word_to_id, id_to_word, co_matrix\n",
    "            "
   ]
  },
  {
   "cell_type": "code",
   "execution_count": 4,
   "metadata": {},
   "outputs": [
    {
     "data": {
      "text/plain": [
       "({'私': 0, '東京駅': 1, '行く': 2, '山手線': 3, '乗る': 4},\n",
       " {0: '私', 1: '東京駅', 2: '行く', 3: '山手線', 4: '乗る'},\n",
       " array([[0., 1., 0., 0., 0.],\n",
       "        [1., 0., 2., 1., 0.],\n",
       "        [0., 2., 0., 0., 0.],\n",
       "        [0., 1., 0., 0., 1.],\n",
       "        [0., 0., 0., 1., 0.]]))"
      ]
     },
     "execution_count": 4,
     "metadata": {},
     "output_type": "execute_result"
    }
   ],
   "source": [
    "co_matrix(['私 東京駅 行く 東京駅 山手線 乗る'])"
   ]
  },
  {
   "cell_type": "markdown",
   "metadata": {},
   "source": [
    "# 相互情報量\n",
    "\n",
    "$$\n",
    "\\textrm{PMI} \\left( x, y \\right) = \\log_{2} \\frac{P \\left(x,y \\right)}{P \\left(x \\right) P \\left(y \\right)} \\\\\n",
    "\\textrm{PPMI} \\left( x, y \\right) = \\max \\left[0, \\textrm{PMI}\\left( x, y \\right) \\right]\n",
    "$$"
   ]
  },
  {
   "cell_type": "code",
   "execution_count": 5,
   "metadata": {},
   "outputs": [],
   "source": [
    "def ppmi(C, delta=1e-8):\n",
    "    M = np.zeros_like(C, dtype=np.float32)\n",
    "    N = np.sum(C)\n",
    "    # 単語ごとの個数の合計を求める。\n",
    "    S = np.sum(C, axis=0)\n",
    "    for i in range(C.shape[0]):\n",
    "        for j in range(C.shape[1]):\n",
    "            pmi = np.log2(C[i, j] * N / S[i]*S[j] + delta)\n",
    "            M[i, j] = max(0, pmi)\n",
    "            \n",
    "    return M"
   ]
  },
  {
   "cell_type": "code",
   "execution_count": 6,
   "metadata": {},
   "outputs": [
    {
     "name": "stdout",
     "output_type": "stream",
     "text": [
      "[[0. 1. 0. 0. 0. 0. 0. 0. 0. 0. 0.]\n",
      " [1. 0. 1. 1. 0. 1. 0. 0. 1. 0. 0.]\n",
      " [0. 1. 0. 0. 0. 0. 0. 0. 0. 0. 0.]\n",
      " [0. 1. 0. 0. 1. 0. 0. 0. 0. 0. 0.]\n",
      " [0. 0. 0. 1. 0. 0. 0. 0. 0. 0. 0.]\n",
      " [0. 1. 0. 0. 0. 0. 1. 0. 0. 0. 0.]\n",
      " [0. 0. 0. 0. 0. 1. 0. 1. 0. 0. 0.]\n",
      " [0. 0. 0. 0. 0. 0. 1. 0. 0. 0. 0.]\n",
      " [0. 1. 0. 0. 0. 0. 0. 0. 2. 1. 0.]\n",
      " [0. 0. 0. 0. 0. 0. 0. 0. 1. 0. 1.]\n",
      " [0. 0. 0. 0. 0. 0. 0. 0. 0. 1. 0.]]\n"
     ]
    },
    {
     "data": {
      "text/plain": [
       "array([[0.       , 6.7813597, 0.       , 0.       , 0.       , 0.       ,\n",
       "        0.       , 0.       , 0.       , 0.       , 0.       ],\n",
       "       [2.1375036, 0.       , 2.1375036, 3.1375036, 0.       , 3.1375036,\n",
       "        0.       , 0.       , 4.1375036, 0.       , 0.       ],\n",
       "       [0.       , 6.7813597, 0.       , 0.       , 0.       , 0.       ,\n",
       "        0.       , 0.       , 0.       , 0.       , 0.       ],\n",
       "       [0.       , 5.7813597, 0.       , 0.       , 3.4594316, 0.       ,\n",
       "        0.       , 0.       , 0.       , 0.       , 0.       ],\n",
       "       [0.       , 0.       , 0.       , 5.4594316, 0.       , 0.       ,\n",
       "        0.       , 0.       , 0.       , 0.       , 0.       ],\n",
       "       [0.       , 5.7813597, 0.       , 0.       , 0.       , 0.       ,\n",
       "        4.4594316, 0.       , 0.       , 0.       , 0.       ],\n",
       "       [0.       , 0.       , 0.       , 0.       , 0.       , 4.4594316,\n",
       "        0.       , 3.4594316, 0.       , 0.       , 0.       ],\n",
       "       [0.       , 0.       , 0.       , 0.       , 0.       , 0.       ,\n",
       "        5.4594316, 0.       , 0.       , 0.       , 0.       ],\n",
       "       [0.       , 4.7813597, 0.       , 0.       , 0.       , 0.       ,\n",
       "        0.       , 0.       , 5.4594316, 3.4594316, 0.       ],\n",
       "       [0.       , 0.       , 0.       , 0.       , 0.       , 0.       ,\n",
       "        0.       , 0.       , 5.4594316, 0.       , 3.4594316],\n",
       "       [0.       , 0.       , 0.       , 0.       , 0.       , 0.       ,\n",
       "        0.       , 0.       , 0.       , 5.4594316, 0.       ]],\n",
       "      dtype=float32)"
      ]
     },
     "execution_count": 6,
     "metadata": {},
     "output_type": "execute_result"
    }
   ],
   "source": [
    "_, _,m = co_matrix(['私 東京駅 行く', '東京駅 山手線 乗る','東京駅 品川駅 東海道新幹線 一駅','東京駅 大宮 大宮 東北新幹線 乗り換える'], window_size=1)\n",
    "print(m)\n",
    "ppmi(m)"
   ]
  },
  {
   "cell_type": "markdown",
   "metadata": {},
   "source": [
    "# 主成分分析\n",
    "主成分分析はScikit-learnに実装されている。"
   ]
  },
  {
   "cell_type": "code",
   "execution_count": 7,
   "metadata": {},
   "outputs": [],
   "source": [
    "from sklearn.decomposition import PCA"
   ]
  },
  {
   "cell_type": "markdown",
   "metadata": {},
   "source": [
    "# 文書の準備\n",
    "今回はppmiの行列を次元削減することを考える。"
   ]
  },
  {
   "cell_type": "code",
   "execution_count": 26,
   "metadata": {},
   "outputs": [
    {
     "name": "stdout",
     "output_type": "stream",
     "text": [
      "[[0.       2.321928 3.321928 0.       3.321928 0.       0.       4.321928\n",
      "  0.       0.      ]\n",
      " [6.321928 0.       0.       0.       0.       0.       0.       0.\n",
      "  0.       0.      ]\n",
      " [5.321928 0.       0.       3.321928 0.       0.       0.       0.\n",
      "  0.       0.      ]\n",
      " [0.       0.       5.321928 0.       0.       0.       0.       0.\n",
      "  0.       0.      ]\n",
      " [5.321928 0.       0.       0.       0.       4.321928 0.       0.\n",
      "  0.       0.      ]\n",
      " [0.       0.       0.       0.       4.321928 0.       3.321928 0.\n",
      "  0.       0.      ]\n",
      " [0.       0.       0.       0.       0.       5.321928 0.       0.\n",
      "  0.       0.      ]\n",
      " [4.321928 0.       0.       0.       0.       0.       0.       5.321928\n",
      "  3.321928 0.      ]\n",
      " [0.       0.       0.       0.       0.       0.       0.       5.321928\n",
      "  0.       3.321928]\n",
      " [0.       0.       0.       0.       0.       0.       0.       0.\n",
      "  5.321928 0.      ]]\n"
     ]
    }
   ],
   "source": [
    "corpus = ['東京駅 行く', \\\n",
    "          '東京駅 山手線 乗る',\\\n",
    "          '東京駅 品川駅 東海道新幹線 一駅',\\\n",
    "          '東京駅 大宮 大宮 東北新幹線 乗り換える']\n",
    "_, id_to_word, m = co_matrix(corpus)\n",
    "pp_m = ppmi(m)\n",
    "print(pp_m)"
   ]
  },
  {
   "cell_type": "markdown",
   "metadata": {},
   "source": [
    "## 次元圧縮の実戦"
   ]
  },
  {
   "cell_type": "code",
   "execution_count": 27,
   "metadata": {},
   "outputs": [
    {
     "data": {
      "text/plain": [
       "array([[ 4.4967055 ,  0.759573  ],\n",
       "       [-4.124335  ,  0.8454847 ],\n",
       "       [-3.801812  ,  0.5828286 ],\n",
       "       [ 2.4012997 , -2.3495476 ],\n",
       "       [-4.326973  , -1.303419  ],\n",
       "       [ 2.215092  , -2.5340316 ],\n",
       "       [-0.41045034, -3.6734424 ],\n",
       "       [-0.5296067 ,  4.8526306 ],\n",
       "       [ 3.0744364 ,  2.9625516 ],\n",
       "       [ 1.005643  , -0.14262933]], dtype=float32)"
      ]
     },
     "execution_count": 27,
     "metadata": {},
     "output_type": "execute_result"
    }
   ],
   "source": [
    "pca = PCA(n_components=2)\n",
    "co_text_pca = pca.fit_transform(pp_m)\n",
    "co_text_pca"
   ]
  },
  {
   "cell_type": "markdown",
   "metadata": {},
   "source": [
    "## 寄与率を求めてみる"
   ]
  },
  {
   "cell_type": "code",
   "execution_count": 15,
   "metadata": {},
   "outputs": [
    {
     "data": {
      "text/plain": [
       "array([0.32518077, 0.21602066], dtype=float32)"
      ]
     },
     "execution_count": 15,
     "metadata": {},
     "output_type": "execute_result"
    }
   ],
   "source": [
    "pca.explained_variance_ratio_"
   ]
  },
  {
   "cell_type": "markdown",
   "metadata": {},
   "source": [
    "# Word2Vec\n",
    "今回の講座ではgensimのWord2Vecを用いる。  \n",
    "\n",
    "モジュールがインストールされていない場合にはこちらを行う。  \n",
    "\\$ conda install -c conda-forge gensim"
   ]
  },
  {
   "cell_type": "code",
   "execution_count": null,
   "metadata": {},
   "outputs": [],
   "source": [
    "from gensim.models import word2vec\n",
    "import MeCab\n",
    "import mojimoji\n",
    "import pandas as pd"
   ]
  },
  {
   "cell_type": "code",
   "execution_count": null,
   "metadata": {},
   "outputs": [],
   "source": [
    "df_input = pd.read_csv('../data/kokkai.csv', header=0)\n",
    "corpus = [x.split(' ') for x in \\\n",
    "          df_input['text'].map(text_to_words).values.tolist()]"
   ]
  },
  {
   "cell_type": "code",
   "execution_count": null,
   "metadata": {},
   "outputs": [],
   "source": [
    "corpus[1]"
   ]
  },
  {
   "cell_type": "markdown",
   "metadata": {},
   "source": [
    "## モデル作成\n",
    "モデル作成を行い、このモデルを保管する。 　\n",
    "- size→次元数。\n",
    "- min_count→何回以上出現した単語を対象にするか。\n",
    "- window→前後どこまでを対象とするか。\n",
    "- sg→1はski-gramそれ以外はCBOW"
   ]
  },
  {
   "cell_type": "code",
   "execution_count": null,
   "metadata": {},
   "outputs": [],
   "source": [
    "model = word2vec.Word2Vec(corpus, size=200, min_count=3, window=5, sg=1)\n",
    "model.save('../data/kokkai_model.model')"
   ]
  },
  {
   "cell_type": "markdown",
   "metadata": {},
   "source": [
    "### ベクトルの出力"
   ]
  },
  {
   "cell_type": "code",
   "execution_count": null,
   "metadata": {},
   "outputs": [],
   "source": [
    "model.wv['アベノミクス']"
   ]
  },
  {
   "cell_type": "code",
   "execution_count": null,
   "metadata": {},
   "outputs": [],
   "source": [
    "print(model.similarity('アベノミクス', '三本の矢'))"
   ]
  },
  {
   "cell_type": "code",
   "execution_count": null,
   "metadata": {},
   "outputs": [],
   "source": [
    "similar_words = model.wv.most_similar(positive=['日本経済'], topn=10)\n",
    "similar_words"
   ]
  },
  {
   "cell_type": "markdown",
   "metadata": {},
   "source": [
    "# TF-IDF\n",
    "\n",
    "$$\n",
    "\\textrm{tf}_{i,j} = \\frac{文書 d_{i}に含まれるt_{j}の個数}{文書d_{i}内のすべての単語の個数} = \\frac{\\left| t_{j} \\in d_{i} \\right| }{\\sum_{t_{j} \\in d_{j}}}\n",
    "$$\n",
    "\n",
    "$$\n",
    "\\textrm{idf}_{j} = \\log \\left( \\frac{全文書数+1}{t_{j}が含まれる個数 +1} \\right) + 1 = \\log \\left( \\frac{\\left| D \\right| +1}{\\left| \\left\\{ d : t_{j} \\in d \\right\\} \\right| +1 } \\right) + 1\n",
    "$$\n",
    "\n",
    "\n",
    "で与えられtf-idfはtf値とidfの乗算で表され、それを文書が行、語彙が列として行列形式で並べて求められる。\n",
    "\n",
    "$$\n",
    "\\left(\n",
    "\\begin{array}{cccc}\n",
    "\\textrm{tdidf}_{11} & \\textrm{tdidf}_{12} & \\cdots & \\textrm{tdidf}_{1n} \\\\\n",
    "\\textrm{tdidf}_{21} & \\textrm{tdidf}_{22} & \\cdots & \\textrm{tdidf}_{2n} \\\\\n",
    "\\cdots \\\\\n",
    "\\textrm{tdidf}_{m1} & \\textrm{tdidf}_{n2} & \\cdots & \\textrm{tdidf}_{mn}\n",
    "\\end{array}\n",
    "\\right)\n",
    "$$\n",
    "\n",
    "今回使用するライブラリでは文書ごとにtf-idfが1に規格化されて出力される。$i$番目の文書のベクトルは\n",
    "\n",
    "$$\n",
    "\\textbf{x}_{i} = \\frac{1}{\\sqrt{\\sum_{k=1}^n \\textrm{tdidf}_{ik}^{2}}} \\left(\n",
    "\\begin{array}{cccc}\n",
    "\\textrm{tdidf}_{i1} & \\textrm{tdidf}_{i2} & \\cdots & \\textrm{tdidf}_{n} \n",
    "\\end{array}\n",
    "\\right)\n",
    "$$\n",
    "となる。CountVectorizerのライブラリではmax_df, min_dfというオプションがあり、max_df=0.8などと指定すると全文書の8割以上出現するものを無視することができる(min_dfも同様)。自然数で指定した場合は割合ではなく回数となる。"
   ]
  },
  {
   "cell_type": "code",
   "execution_count": 42,
   "metadata": {},
   "outputs": [
    {
     "name": "stdout",
     "output_type": "stream",
     "text": [
      "Bug of Words\n"
     ]
    },
    {
     "data": {
      "text/html": [
       "<div>\n",
       "<style scoped>\n",
       "    .dataframe tbody tr th:only-of-type {\n",
       "        vertical-align: middle;\n",
       "    }\n",
       "\n",
       "    .dataframe tbody tr th {\n",
       "        vertical-align: top;\n",
       "    }\n",
       "\n",
       "    .dataframe thead th {\n",
       "        text-align: right;\n",
       "    }\n",
       "</style>\n",
       "<table border=\"1\" class=\"dataframe\">\n",
       "  <thead>\n",
       "    <tr style=\"text-align: right;\">\n",
       "      <th></th>\n",
       "      <th>一駅</th>\n",
       "      <th>乗り換える</th>\n",
       "      <th>乗る</th>\n",
       "      <th>品川駅</th>\n",
       "      <th>大宮</th>\n",
       "      <th>山手線</th>\n",
       "      <th>東京駅</th>\n",
       "      <th>東北新幹線</th>\n",
       "      <th>東海道新幹線</th>\n",
       "      <th>行く</th>\n",
       "    </tr>\n",
       "  </thead>\n",
       "  <tbody>\n",
       "    <tr>\n",
       "      <th>東京駅 行く</th>\n",
       "      <td>0</td>\n",
       "      <td>0</td>\n",
       "      <td>0</td>\n",
       "      <td>0</td>\n",
       "      <td>0</td>\n",
       "      <td>0</td>\n",
       "      <td>1</td>\n",
       "      <td>0</td>\n",
       "      <td>0</td>\n",
       "      <td>1</td>\n",
       "    </tr>\n",
       "    <tr>\n",
       "      <th>東京駅 山手線 乗る</th>\n",
       "      <td>0</td>\n",
       "      <td>0</td>\n",
       "      <td>1</td>\n",
       "      <td>0</td>\n",
       "      <td>0</td>\n",
       "      <td>1</td>\n",
       "      <td>1</td>\n",
       "      <td>0</td>\n",
       "      <td>0</td>\n",
       "      <td>0</td>\n",
       "    </tr>\n",
       "    <tr>\n",
       "      <th>東京駅 品川駅 東海道新幹線 一駅</th>\n",
       "      <td>1</td>\n",
       "      <td>0</td>\n",
       "      <td>0</td>\n",
       "      <td>1</td>\n",
       "      <td>0</td>\n",
       "      <td>0</td>\n",
       "      <td>1</td>\n",
       "      <td>0</td>\n",
       "      <td>1</td>\n",
       "      <td>0</td>\n",
       "    </tr>\n",
       "    <tr>\n",
       "      <th>東京駅 大宮 大宮 東北新幹線 乗り換える</th>\n",
       "      <td>0</td>\n",
       "      <td>1</td>\n",
       "      <td>0</td>\n",
       "      <td>0</td>\n",
       "      <td>2</td>\n",
       "      <td>0</td>\n",
       "      <td>1</td>\n",
       "      <td>1</td>\n",
       "      <td>0</td>\n",
       "      <td>0</td>\n",
       "    </tr>\n",
       "  </tbody>\n",
       "</table>\n",
       "</div>"
      ],
      "text/plain": [
       "                       一駅  乗り換える  乗る  品川駅  大宮  山手線  東京駅  東北新幹線  東海道新幹線  行く\n",
       "東京駅 行く                  0      0   0    0   0    0    1      0       0   1\n",
       "東京駅 山手線 乗る              0      0   1    0   0    1    1      0       0   0\n",
       "東京駅 品川駅 東海道新幹線 一駅       1      0   0    1   0    0    1      0       1   0\n",
       "東京駅 大宮 大宮 東北新幹線 乗り換える   0      1   0    0   2    0    1      1       0   0"
      ]
     },
     "metadata": {},
     "output_type": "display_data"
    },
    {
     "name": "stdout",
     "output_type": "stream",
     "text": [
      "tfidf\n"
     ]
    },
    {
     "data": {
      "text/html": [
       "<div>\n",
       "<style scoped>\n",
       "    .dataframe tbody tr th:only-of-type {\n",
       "        vertical-align: middle;\n",
       "    }\n",
       "\n",
       "    .dataframe tbody tr th {\n",
       "        vertical-align: top;\n",
       "    }\n",
       "\n",
       "    .dataframe thead th {\n",
       "        text-align: right;\n",
       "    }\n",
       "</style>\n",
       "<table border=\"1\" class=\"dataframe\">\n",
       "  <thead>\n",
       "    <tr style=\"text-align: right;\">\n",
       "      <th></th>\n",
       "      <th>一駅</th>\n",
       "      <th>乗り換える</th>\n",
       "      <th>乗る</th>\n",
       "      <th>品川駅</th>\n",
       "      <th>大宮</th>\n",
       "      <th>山手線</th>\n",
       "      <th>東京駅</th>\n",
       "      <th>東北新幹線</th>\n",
       "      <th>東海道新幹線</th>\n",
       "      <th>行く</th>\n",
       "    </tr>\n",
       "  </thead>\n",
       "  <tbody>\n",
       "    <tr>\n",
       "      <th>東京駅 行く</th>\n",
       "      <td>0.000000</td>\n",
       "      <td>0.000000</td>\n",
       "      <td>0.000000</td>\n",
       "      <td>0.000000</td>\n",
       "      <td>0.000000</td>\n",
       "      <td>0.000000</td>\n",
       "      <td>0.462637</td>\n",
       "      <td>0.000000</td>\n",
       "      <td>0.000000</td>\n",
       "      <td>0.886548</td>\n",
       "    </tr>\n",
       "    <tr>\n",
       "      <th>東京駅 山手線 乗る</th>\n",
       "      <td>0.000000</td>\n",
       "      <td>0.000000</td>\n",
       "      <td>0.663385</td>\n",
       "      <td>0.000000</td>\n",
       "      <td>0.000000</td>\n",
       "      <td>0.663385</td>\n",
       "      <td>0.346182</td>\n",
       "      <td>0.000000</td>\n",
       "      <td>0.000000</td>\n",
       "      <td>0.000000</td>\n",
       "    </tr>\n",
       "    <tr>\n",
       "      <th>東京駅 品川駅 東海道新幹線 一駅</th>\n",
       "      <td>0.552805</td>\n",
       "      <td>0.000000</td>\n",
       "      <td>0.000000</td>\n",
       "      <td>0.552805</td>\n",
       "      <td>0.000000</td>\n",
       "      <td>0.000000</td>\n",
       "      <td>0.288477</td>\n",
       "      <td>0.000000</td>\n",
       "      <td>0.552805</td>\n",
       "      <td>0.000000</td>\n",
       "    </tr>\n",
       "    <tr>\n",
       "      <th>東京駅 大宮 大宮 東北新幹線 乗り換える</th>\n",
       "      <td>0.000000</td>\n",
       "      <td>0.399288</td>\n",
       "      <td>0.000000</td>\n",
       "      <td>0.000000</td>\n",
       "      <td>0.798575</td>\n",
       "      <td>0.000000</td>\n",
       "      <td>0.208365</td>\n",
       "      <td>0.399288</td>\n",
       "      <td>0.000000</td>\n",
       "      <td>0.000000</td>\n",
       "    </tr>\n",
       "  </tbody>\n",
       "</table>\n",
       "</div>"
      ],
      "text/plain": [
       "                             一駅     乗り換える        乗る       品川駅        大宮  \\\n",
       "東京駅 行く                 0.000000  0.000000  0.000000  0.000000  0.000000   \n",
       "東京駅 山手線 乗る             0.000000  0.000000  0.663385  0.000000  0.000000   \n",
       "東京駅 品川駅 東海道新幹線 一駅      0.552805  0.000000  0.000000  0.552805  0.000000   \n",
       "東京駅 大宮 大宮 東北新幹線 乗り換える  0.000000  0.399288  0.000000  0.000000  0.798575   \n",
       "\n",
       "                            山手線       東京駅     東北新幹線    東海道新幹線        行く  \n",
       "東京駅 行く                 0.000000  0.462637  0.000000  0.000000  0.886548  \n",
       "東京駅 山手線 乗る             0.663385  0.346182  0.000000  0.000000  0.000000  \n",
       "東京駅 品川駅 東海道新幹線 一駅      0.000000  0.288477  0.000000  0.552805  0.000000  \n",
       "東京駅 大宮 大宮 東北新幹線 乗り換える  0.000000  0.208365  0.399288  0.000000  0.000000  "
      ]
     },
     "metadata": {},
     "output_type": "display_data"
    },
    {
     "name": "stdout",
     "output_type": "stream",
     "text": [
      "max_df=0.5\n",
      "Bug of Words\n"
     ]
    },
    {
     "data": {
      "text/html": [
       "<div>\n",
       "<style scoped>\n",
       "    .dataframe tbody tr th:only-of-type {\n",
       "        vertical-align: middle;\n",
       "    }\n",
       "\n",
       "    .dataframe tbody tr th {\n",
       "        vertical-align: top;\n",
       "    }\n",
       "\n",
       "    .dataframe thead th {\n",
       "        text-align: right;\n",
       "    }\n",
       "</style>\n",
       "<table border=\"1\" class=\"dataframe\">\n",
       "  <thead>\n",
       "    <tr style=\"text-align: right;\">\n",
       "      <th></th>\n",
       "      <th>一駅</th>\n",
       "      <th>乗り換える</th>\n",
       "      <th>乗る</th>\n",
       "      <th>品川駅</th>\n",
       "      <th>大宮</th>\n",
       "      <th>山手線</th>\n",
       "      <th>東北新幹線</th>\n",
       "      <th>東海道新幹線</th>\n",
       "      <th>行く</th>\n",
       "    </tr>\n",
       "  </thead>\n",
       "  <tbody>\n",
       "    <tr>\n",
       "      <th>東京駅 行く</th>\n",
       "      <td>0</td>\n",
       "      <td>0</td>\n",
       "      <td>0</td>\n",
       "      <td>0</td>\n",
       "      <td>0</td>\n",
       "      <td>0</td>\n",
       "      <td>0</td>\n",
       "      <td>0</td>\n",
       "      <td>1</td>\n",
       "    </tr>\n",
       "    <tr>\n",
       "      <th>東京駅 山手線 乗る</th>\n",
       "      <td>0</td>\n",
       "      <td>0</td>\n",
       "      <td>1</td>\n",
       "      <td>0</td>\n",
       "      <td>0</td>\n",
       "      <td>1</td>\n",
       "      <td>0</td>\n",
       "      <td>0</td>\n",
       "      <td>0</td>\n",
       "    </tr>\n",
       "    <tr>\n",
       "      <th>東京駅 品川駅 東海道新幹線 一駅</th>\n",
       "      <td>1</td>\n",
       "      <td>0</td>\n",
       "      <td>0</td>\n",
       "      <td>1</td>\n",
       "      <td>0</td>\n",
       "      <td>0</td>\n",
       "      <td>0</td>\n",
       "      <td>1</td>\n",
       "      <td>0</td>\n",
       "    </tr>\n",
       "    <tr>\n",
       "      <th>東京駅 大宮 大宮 東北新幹線 乗り換える</th>\n",
       "      <td>0</td>\n",
       "      <td>1</td>\n",
       "      <td>0</td>\n",
       "      <td>0</td>\n",
       "      <td>2</td>\n",
       "      <td>0</td>\n",
       "      <td>1</td>\n",
       "      <td>0</td>\n",
       "      <td>0</td>\n",
       "    </tr>\n",
       "  </tbody>\n",
       "</table>\n",
       "</div>"
      ],
      "text/plain": [
       "                       一駅  乗り換える  乗る  品川駅  大宮  山手線  東北新幹線  東海道新幹線  行く\n",
       "東京駅 行く                  0      0   0    0   0    0      0       0   1\n",
       "東京駅 山手線 乗る              0      0   1    0   0    1      0       0   0\n",
       "東京駅 品川駅 東海道新幹線 一駅       1      0   0    1   0    0      0       1   0\n",
       "東京駅 大宮 大宮 東北新幹線 乗り換える   0      1   0    0   2    0      1       0   0"
      ]
     },
     "metadata": {},
     "output_type": "display_data"
    },
    {
     "name": "stdout",
     "output_type": "stream",
     "text": [
      "tfidf\n"
     ]
    },
    {
     "data": {
      "text/html": [
       "<div>\n",
       "<style scoped>\n",
       "    .dataframe tbody tr th:only-of-type {\n",
       "        vertical-align: middle;\n",
       "    }\n",
       "\n",
       "    .dataframe tbody tr th {\n",
       "        vertical-align: top;\n",
       "    }\n",
       "\n",
       "    .dataframe thead th {\n",
       "        text-align: right;\n",
       "    }\n",
       "</style>\n",
       "<table border=\"1\" class=\"dataframe\">\n",
       "  <thead>\n",
       "    <tr style=\"text-align: right;\">\n",
       "      <th></th>\n",
       "      <th>一駅</th>\n",
       "      <th>乗り換える</th>\n",
       "      <th>乗る</th>\n",
       "      <th>品川駅</th>\n",
       "      <th>大宮</th>\n",
       "      <th>山手線</th>\n",
       "      <th>東北新幹線</th>\n",
       "      <th>東海道新幹線</th>\n",
       "      <th>行く</th>\n",
       "    </tr>\n",
       "  </thead>\n",
       "  <tbody>\n",
       "    <tr>\n",
       "      <th>東京駅 行く</th>\n",
       "      <td>0.00000</td>\n",
       "      <td>0.000000</td>\n",
       "      <td>0.000000</td>\n",
       "      <td>0.00000</td>\n",
       "      <td>0.000000</td>\n",
       "      <td>0.000000</td>\n",
       "      <td>0.000000</td>\n",
       "      <td>0.00000</td>\n",
       "      <td>1.0</td>\n",
       "    </tr>\n",
       "    <tr>\n",
       "      <th>東京駅 山手線 乗る</th>\n",
       "      <td>0.00000</td>\n",
       "      <td>0.000000</td>\n",
       "      <td>0.707107</td>\n",
       "      <td>0.00000</td>\n",
       "      <td>0.000000</td>\n",
       "      <td>0.707107</td>\n",
       "      <td>0.000000</td>\n",
       "      <td>0.00000</td>\n",
       "      <td>0.0</td>\n",
       "    </tr>\n",
       "    <tr>\n",
       "      <th>東京駅 品川駅 東海道新幹線 一駅</th>\n",
       "      <td>0.57735</td>\n",
       "      <td>0.000000</td>\n",
       "      <td>0.000000</td>\n",
       "      <td>0.57735</td>\n",
       "      <td>0.000000</td>\n",
       "      <td>0.000000</td>\n",
       "      <td>0.000000</td>\n",
       "      <td>0.57735</td>\n",
       "      <td>0.0</td>\n",
       "    </tr>\n",
       "    <tr>\n",
       "      <th>東京駅 大宮 大宮 東北新幹線 乗り換える</th>\n",
       "      <td>0.00000</td>\n",
       "      <td>0.408248</td>\n",
       "      <td>0.000000</td>\n",
       "      <td>0.00000</td>\n",
       "      <td>0.816497</td>\n",
       "      <td>0.000000</td>\n",
       "      <td>0.408248</td>\n",
       "      <td>0.00000</td>\n",
       "      <td>0.0</td>\n",
       "    </tr>\n",
       "  </tbody>\n",
       "</table>\n",
       "</div>"
      ],
      "text/plain": [
       "                            一駅     乗り換える        乗る      品川駅        大宮  \\\n",
       "東京駅 行く                 0.00000  0.000000  0.000000  0.00000  0.000000   \n",
       "東京駅 山手線 乗る             0.00000  0.000000  0.707107  0.00000  0.000000   \n",
       "東京駅 品川駅 東海道新幹線 一駅      0.57735  0.000000  0.000000  0.57735  0.000000   \n",
       "東京駅 大宮 大宮 東北新幹線 乗り換える  0.00000  0.408248  0.000000  0.00000  0.816497   \n",
       "\n",
       "                            山手線     東北新幹線   東海道新幹線   行く  \n",
       "東京駅 行く                 0.000000  0.000000  0.00000  1.0  \n",
       "東京駅 山手線 乗る             0.707107  0.000000  0.00000  0.0  \n",
       "東京駅 品川駅 東海道新幹線 一駅      0.000000  0.000000  0.57735  0.0  \n",
       "東京駅 大宮 大宮 東北新幹線 乗り換える  0.000000  0.408248  0.00000  0.0  "
      ]
     },
     "metadata": {},
     "output_type": "display_data"
    },
    {
     "name": "stdout",
     "output_type": "stream",
     "text": [
      "min_df=0.3\n",
      "Bug of Words\n"
     ]
    },
    {
     "data": {
      "text/html": [
       "<div>\n",
       "<style scoped>\n",
       "    .dataframe tbody tr th:only-of-type {\n",
       "        vertical-align: middle;\n",
       "    }\n",
       "\n",
       "    .dataframe tbody tr th {\n",
       "        vertical-align: top;\n",
       "    }\n",
       "\n",
       "    .dataframe thead th {\n",
       "        text-align: right;\n",
       "    }\n",
       "</style>\n",
       "<table border=\"1\" class=\"dataframe\">\n",
       "  <thead>\n",
       "    <tr style=\"text-align: right;\">\n",
       "      <th></th>\n",
       "      <th>東京駅</th>\n",
       "    </tr>\n",
       "  </thead>\n",
       "  <tbody>\n",
       "    <tr>\n",
       "      <th>東京駅 行く</th>\n",
       "      <td>1</td>\n",
       "    </tr>\n",
       "    <tr>\n",
       "      <th>東京駅 山手線 乗る</th>\n",
       "      <td>1</td>\n",
       "    </tr>\n",
       "    <tr>\n",
       "      <th>東京駅 品川駅 東海道新幹線 一駅</th>\n",
       "      <td>1</td>\n",
       "    </tr>\n",
       "    <tr>\n",
       "      <th>東京駅 大宮 大宮 東北新幹線 乗り換える</th>\n",
       "      <td>1</td>\n",
       "    </tr>\n",
       "  </tbody>\n",
       "</table>\n",
       "</div>"
      ],
      "text/plain": [
       "                       東京駅\n",
       "東京駅 行く                   1\n",
       "東京駅 山手線 乗る               1\n",
       "東京駅 品川駅 東海道新幹線 一駅        1\n",
       "東京駅 大宮 大宮 東北新幹線 乗り換える    1"
      ]
     },
     "metadata": {},
     "output_type": "display_data"
    },
    {
     "name": "stdout",
     "output_type": "stream",
     "text": [
      "tfidf\n"
     ]
    },
    {
     "data": {
      "text/html": [
       "<div>\n",
       "<style scoped>\n",
       "    .dataframe tbody tr th:only-of-type {\n",
       "        vertical-align: middle;\n",
       "    }\n",
       "\n",
       "    .dataframe tbody tr th {\n",
       "        vertical-align: top;\n",
       "    }\n",
       "\n",
       "    .dataframe thead th {\n",
       "        text-align: right;\n",
       "    }\n",
       "</style>\n",
       "<table border=\"1\" class=\"dataframe\">\n",
       "  <thead>\n",
       "    <tr style=\"text-align: right;\">\n",
       "      <th></th>\n",
       "      <th>東京駅</th>\n",
       "    </tr>\n",
       "  </thead>\n",
       "  <tbody>\n",
       "    <tr>\n",
       "      <th>東京駅 行く</th>\n",
       "      <td>1.0</td>\n",
       "    </tr>\n",
       "    <tr>\n",
       "      <th>東京駅 山手線 乗る</th>\n",
       "      <td>1.0</td>\n",
       "    </tr>\n",
       "    <tr>\n",
       "      <th>東京駅 品川駅 東海道新幹線 一駅</th>\n",
       "      <td>1.0</td>\n",
       "    </tr>\n",
       "    <tr>\n",
       "      <th>東京駅 大宮 大宮 東北新幹線 乗り換える</th>\n",
       "      <td>1.0</td>\n",
       "    </tr>\n",
       "  </tbody>\n",
       "</table>\n",
       "</div>"
      ],
      "text/plain": [
       "                       東京駅\n",
       "東京駅 行く                 1.0\n",
       "東京駅 山手線 乗る             1.0\n",
       "東京駅 品川駅 東海道新幹線 一駅      1.0\n",
       "東京駅 大宮 大宮 東北新幹線 乗り換える  1.0"
      ]
     },
     "metadata": {},
     "output_type": "display_data"
    }
   ],
   "source": [
    "from sklearn.feature_extraction.text import CountVectorizer, TfidfTransformer\n",
    "import pandas as pd\n",
    "corpus = ['東京駅 行く', \\\n",
    "          '東京駅 山手線 乗る',\\\n",
    "          '東京駅 品川駅 東海道新幹線 一駅',\\\n",
    "          '東京駅 大宮 大宮 東北新幹線 乗り換える']\n",
    "vec = CountVectorizer()\n",
    "X = vec.fit_transform(corpus)\n",
    "print('Bag of Words')\n",
    "display(pd.DataFrame(X.toarray(), columns=vec.get_feature_names(), index=corpus))\n",
    "print('tfidf')\n",
    "tfidf = TfidfTransformer()\n",
    "X_tfidf = tfidf.fit_transform(X)\n",
    "display(pd.DataFrame(X_tfidf.toarray(), columns=vec.get_feature_names(), index=corpus))\n",
    "\n",
    "print('max_df=0.5')\n",
    "vec = CountVectorizer(max_df=0.5)\n",
    "X = vec.fit_transform(corpus)\n",
    "print('Bag of Words')\n",
    "display(pd.DataFrame(X.toarray(), columns=vec.get_feature_names(), index=corpus))\n",
    "print('tfidf')\n",
    "tfidf = TfidfTransformer()\n",
    "X_tfidf = tfidf.fit_transform(X)\n",
    "display(pd.DataFrame(X_tfidf.toarray(), columns=vec.get_feature_names(), index=corpus))\n",
    "\n",
    "print('min_df=0.3')\n",
    "vec = CountVectorizer(min_df=0.3)\n",
    "X = vec.fit_transform(corpus)\n",
    "print('Bag of Words')\n",
    "display(pd.DataFrame(X.toarray(), columns=vec.get_feature_names(), index=corpus))\n",
    "print('tfidf')\n",
    "tfidf = TfidfTransformer()\n",
    "X_tfidf = tfidf.fit_transform(X)\n",
    "display(pd.DataFrame(X_tfidf.toarray(), columns=vec.get_feature_names(), index=corpus))"
   ]
  },
  {
   "cell_type": "markdown",
   "metadata": {},
   "source": [
    "# Doc2Vec\n",
    "gensimのDoc2Vecを用いる。"
   ]
  },
  {
   "cell_type": "code",
   "execution_count": 16,
   "metadata": {},
   "outputs": [],
   "source": [
    "import pandas as pd\n",
    "import MeCab\n",
    "import mojimoji\n",
    "from gensim.models.doc2vec import Doc2Vec, TaggedDocument\n",
    "\n",
    "df_input = pd.read_csv('../data/kokkai.csv', header=0)\n",
    "df_input['text_ana'] = df_input['text'].map(text_to_words)"
   ]
  },
  {
   "cell_type": "code",
   "execution_count": 17,
   "metadata": {},
   "outputs": [
    {
     "data": {
      "text/html": [
       "<div>\n",
       "<style scoped>\n",
       "    .dataframe tbody tr th:only-of-type {\n",
       "        vertical-align: middle;\n",
       "    }\n",
       "\n",
       "    .dataframe tbody tr th {\n",
       "        vertical-align: top;\n",
       "    }\n",
       "\n",
       "    .dataframe thead th {\n",
       "        text-align: right;\n",
       "    }\n",
       "</style>\n",
       "<table border=\"1\" class=\"dataframe\">\n",
       "  <thead>\n",
       "    <tr style=\"text-align: right;\">\n",
       "      <th></th>\n",
       "      <th>date</th>\n",
       "      <th>house</th>\n",
       "      <th>meeting</th>\n",
       "      <th>speech_order</th>\n",
       "      <th>text</th>\n",
       "      <th>text_ana</th>\n",
       "    </tr>\n",
       "  </thead>\n",
       "  <tbody>\n",
       "    <tr>\n",
       "      <th>0</th>\n",
       "      <td>2019-12-03</td>\n",
       "      <td>参議院</td>\n",
       "      <td>経済産業委員会</td>\n",
       "      <td>0</td>\n",
       "      <td>令和元年十二月三日（火曜日）\\r\\n　　　午前十時開会\\r\\n　　　　───────────...</td>\n",
       "      <td>令和元年 十二月三日 火曜日 午前 十時 開会 委員 異動 十一月二十八日 辞任 補欠 選任...</td>\n",
       "    </tr>\n",
       "    <tr>\n",
       "      <th>1</th>\n",
       "      <td>2019-12-03</td>\n",
       "      <td>参議院</td>\n",
       "      <td>経済産業委員会</td>\n",
       "      <td>1</td>\n",
       "      <td>○委員長（礒崎哲史君）　ただいまから経済産業委員会を開会いたします。\\r\\n　委員の異動につ...</td>\n",
       "      <td>委員長 礒崎哲史 君 経済産業委員会 開会 いたす 委員 異動 報告 いたす 昨日 三木亨 ...</td>\n",
       "    </tr>\n",
       "    <tr>\n",
       "      <th>2</th>\n",
       "      <td>2019-12-03</td>\n",
       "      <td>参議院</td>\n",
       "      <td>経済産業委員会</td>\n",
       "      <td>2</td>\n",
       "      <td>○委員長（礒崎哲史君）　政府参考人の出席要求に関する件についてお諮りいたします。\\r\\n　外...</td>\n",
       "      <td>委員長 礒崎哲史 君 政府参考人 出席 要求 件 諮る いたす 外国為替及び外国貿易法 第十...</td>\n",
       "    </tr>\n",
       "    <tr>\n",
       "      <th>3</th>\n",
       "      <td>2019-12-03</td>\n",
       "      <td>参議院</td>\n",
       "      <td>経済産業委員会</td>\n",
       "      <td>3</td>\n",
       "      <td>○委員長（礒崎哲史君）　御異議ないと認め、さよう決定いたします。\\r\\n　　　　──────...</td>\n",
       "      <td>委員長 礒崎哲史 君 異議 ない 認める 決定 いたす</td>\n",
       "    </tr>\n",
       "    <tr>\n",
       "      <th>4</th>\n",
       "      <td>2019-12-03</td>\n",
       "      <td>参議院</td>\n",
       "      <td>経済産業委員会</td>\n",
       "      <td>4</td>\n",
       "      <td>○委員長（礒崎哲史君）　外国為替及び外国貿易法第十条第二項の規定に基づき、北朝鮮を仕向地とす...</td>\n",
       "      <td>委員長 礒崎哲史 君 外国為替及び外国貿易法 第十条 項 規定 基づく 北朝鮮 仕向 する ...</td>\n",
       "    </tr>\n",
       "  </tbody>\n",
       "</table>\n",
       "</div>"
      ],
      "text/plain": [
       "         date house  meeting  speech_order  \\\n",
       "0  2019-12-03   参議院  経済産業委員会             0   \n",
       "1  2019-12-03   参議院  経済産業委員会             1   \n",
       "2  2019-12-03   参議院  経済産業委員会             2   \n",
       "3  2019-12-03   参議院  経済産業委員会             3   \n",
       "4  2019-12-03   参議院  経済産業委員会             4   \n",
       "\n",
       "                                                text  \\\n",
       "0  令和元年十二月三日（火曜日）\\r\\n　　　午前十時開会\\r\\n　　　　───────────...   \n",
       "1  ○委員長（礒崎哲史君）　ただいまから経済産業委員会を開会いたします。\\r\\n　委員の異動につ...   \n",
       "2  ○委員長（礒崎哲史君）　政府参考人の出席要求に関する件についてお諮りいたします。\\r\\n　外...   \n",
       "3  ○委員長（礒崎哲史君）　御異議ないと認め、さよう決定いたします。\\r\\n　　　　──────...   \n",
       "4  ○委員長（礒崎哲史君）　外国為替及び外国貿易法第十条第二項の規定に基づき、北朝鮮を仕向地とす...   \n",
       "\n",
       "                                            text_ana  \n",
       "0  令和元年 十二月三日 火曜日 午前 十時 開会 委員 異動 十一月二十八日 辞任 補欠 選任...  \n",
       "1  委員長 礒崎哲史 君 経済産業委員会 開会 いたす 委員 異動 報告 いたす 昨日 三木亨 ...  \n",
       "2  委員長 礒崎哲史 君 政府参考人 出席 要求 件 諮る いたす 外国為替及び外国貿易法 第十...  \n",
       "3                        委員長 礒崎哲史 君 異議 ない 認める 決定 いたす  \n",
       "4  委員長 礒崎哲史 君 外国為替及び外国貿易法 第十条 項 規定 基づく 北朝鮮 仕向 する ...  "
      ]
     },
     "execution_count": 17,
     "metadata": {},
     "output_type": "execute_result"
    }
   ],
   "source": [
    "df_input.head()"
   ]
  },
  {
   "cell_type": "markdown",
   "metadata": {},
   "source": [
    "## 前処理\n",
    "Doc2Vecのための準備を行う。TaggedDocumentを用いてデータを準備する。  \n",
    "TaggedDocumentは以下の形式で作成する。  \n",
    "&nbsp;&nbsp;TaggedDocument(分かち書きした文書(単語ごとのリスト),タグ(文書ID))\n",
    "\n",
    "ここではタグは日付+参議院or衆議院+会議名とする。"
   ]
  },
  {
   "cell_type": "code",
   "execution_count": 18,
   "metadata": {},
   "outputs": [],
   "source": [
    "keys = df_input[['date', 'house', 'meeting']].drop_duplicates().values.tolist()\n",
    "tagged_corpus = []\n",
    "for key_list in keys:\n",
    "    df = df_input[(df_input['date'] == key_list[0]) & \\\n",
    "                  (df_input['house'] == key_list[1]) & \\\n",
    "                  (df_input['meeting'] == key_list[2]) \\\n",
    "                 ]\n",
    "    df = df.sort_values(by=['speech_order'])\n",
    "    sentence = ' \\n '.join(df['text_ana'].values.tolist())\n",
    "    sentence = sentence.split(' ')\n",
    "    tag = ['{}{}{}'.format(key_list[0], key_list[1], key_list[2])]\n",
    "    tagged_corpus.append(TaggedDocument(sentence, tag))\n",
    "                         "
   ]
  },
  {
   "cell_type": "markdown",
   "metadata": {},
   "source": [
    "## モデル作成\n",
    "モデル作成を行い、このモデルを保管する。 　\n",
    "- size→次元数。\n",
    "- window→前後どこまでを対象とするか。\n",
    "- dm→1はdmpvそれ以外はDBOW"
   ]
  },
  {
   "cell_type": "code",
   "execution_count": 36,
   "metadata": {},
   "outputs": [
    {
     "name": "stderr",
     "output_type": "stream",
     "text": [
      "/Users/tomone_hata/opt/anaconda3/lib/python3.7/site-packages/gensim/models/doc2vec.py:574: UserWarning: The parameter `size` is deprecated, will be removed in 4.0.0, use `vector_size` instead.\n",
      "  warnings.warn(\"The parameter `size` is deprecated, will be removed in 4.0.0, use `vector_size` instead.\")\n"
     ]
    },
    {
     "data": {
      "text/plain": [
       "[('2019-11-22衆議院経済産業委員会', 0.8732223510742188),\n",
       " ('2018-04-18衆議院経済産業委員会', 0.8690423965454102),\n",
       " ('2019-11-14参議院経済産業委員会', 0.8461552262306213),\n",
       " ('2018-04-05参議院経済産業委員会', 0.84292072057724),\n",
       " ('2019-05-16参議院経済産業委員会', 0.8410840630531311),\n",
       " ('2018-03-23参議院経済産業委員会', 0.8346189260482788),\n",
       " ('2019-03-20参議院経済産業委員会', 0.8334153890609741),\n",
       " ('2018-03-28衆議院経済産業委員会', 0.8277140259742737),\n",
       " ('2018-04-03参議院経済産業委員会', 0.8197330236434937),\n",
       " ('2018-05-29参議院経済産業委員会', 0.809745728969574)]"
      ]
     },
     "execution_count": 36,
     "metadata": {},
     "output_type": "execute_result"
    }
   ],
   "source": [
    "model = Doc2Vec(documents=tagged_corpus, size=300, window=3, dm = 1)\n",
    "#'2017-05-29_参議院_本会議'\n",
    "model.docvecs.most_similar('2019-12-03参議院経済産業委員会')"
   ]
  },
  {
   "cell_type": "code",
   "execution_count": 23,
   "metadata": {},
   "outputs": [
    {
     "data": {
      "text/plain": [
       "(300,)"
      ]
     },
     "execution_count": 23,
     "metadata": {},
     "output_type": "execute_result"
    }
   ],
   "source": [
    "model.docvecs['2019-12-03参議院経済産業委員会'].shape"
   ]
  },
  {
   "cell_type": "code",
   "execution_count": null,
   "metadata": {},
   "outputs": [],
   "source": []
  }
 ],
 "metadata": {
  "kernelspec": {
   "display_name": "Python 3",
   "language": "python",
   "name": "python3"
  },
  "language_info": {
   "codemirror_mode": {
    "name": "ipython",
    "version": 3
   },
   "file_extension": ".py",
   "mimetype": "text/x-python",
   "name": "python",
   "nbconvert_exporter": "python",
   "pygments_lexer": "ipython3",
   "version": "3.8.5"
  }
 },
 "nbformat": 4,
 "nbformat_minor": 4
}
