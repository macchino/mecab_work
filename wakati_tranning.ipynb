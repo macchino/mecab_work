{
 "cells": [
  {
   "cell_type": "code",
   "execution_count": 1,
   "metadata": {},
   "outputs": [],
   "source": [
    "import numpy as np\n",
    "import MeCab\n",
    "import mojimoji"
   ]
  },
  {
   "cell_type": "markdown",
   "metadata": {},
   "source": [
    "# 形態素解析BASIC"
   ]
  },
  {
   "cell_type": "code",
   "execution_count": 2,
   "metadata": {},
   "outputs": [],
   "source": [
    "def text_to_words(text,stop_word_pass='./Japanese.txt'):\n",
    "#     stopword listを作る\n",
    "    stopword_list=[]\n",
    "#     stop_word_passをreadlineで全て読みstopword_listに格納\n",
    "    with open(stop_word_pass,'r') as f:\n",
    "        stopword_list = f.readlines()\n",
    "#     内包表記でstripにて空白を削除してstopword_listに戻す\n",
    "    stopword_list = [x.strip()for x in stopword_list if x.strip()]\n",
    "    \n",
    "#     形態素解析を始める\n",
    "# MeCab.Tagger()で形態素解析をするための辞書を指定\n",
    "    m = MeCab.Tagger('-d /usr/lib/x86_64-linux-gnu/mecab/dic/mecab-ipadic-neologd')\n",
    "#     m.(tagger)parseで、指定した辞書を使用して、文字列やテキストファイルを形態素解析する\n",
    "    m.parse('')\n",
    "#     text=normalize_text(text)\n",
    "    text=mojimoji.zen_to_han(text, kana=False)\n",
    "    m_text = m.parse(text)\n",
    "    basic_words = []\n",
    "#     mecabの出力結果を単語ごとにリスト化\n",
    "    m_text=m_text.split('\\n')\n",
    "    for row in m_text:\n",
    "#     tab区切りで形態素、その品詞などの内容と分かれているので単語部のみ取得\n",
    "        word =row.split(\"\\t\")[0]\n",
    "#         最終行はEOS\n",
    "        if word ==\"EOS\":\n",
    "            break\n",
    "        else:\n",
    "            pos=row.split('\\t')[1]\n",
    "            slice_ =pos.split(',')\n",
    "#             品詞を取得する\n",
    "            parts=slice_[0]\n",
    "            if parts == '記号':\n",
    "                continue\n",
    "                \n",
    "#             活用語の場合は活用指定のない原型を取得する\n",
    "            elif slice_[0] in ('形容詞','動詞') and slice_[-3] not in stopword_list:\n",
    "                basic_words.append(slice_[-3])\n",
    "            \n",
    "#             活用しない語についてはそのままの語を取得する\n",
    "            elif slice_[0] == '名詞' and word not in stopword_list:\n",
    "                basic_words.append(word)\n",
    "    basic_words = ' '.join(basic_words)\n",
    "    return basic_words"
   ]
  },
  {
   "cell_type": "code",
   "execution_count": 3,
   "metadata": {},
   "outputs": [
    {
     "data": {
      "text/plain": [
       "'python 勉強 する いる 楽しい'"
      ]
     },
     "execution_count": 3,
     "metadata": {},
     "output_type": "execute_result"
    }
   ],
   "source": [
    "text_to_words('私はpythonを勉強しています。とても楽しいです')"
   ]
  },
  {
   "cell_type": "markdown",
   "metadata": {},
   "source": [
    "# n_gram"
   ]
  },
  {
   "cell_type": "code",
   "execution_count": 2,
   "metadata": {},
   "outputs": [],
   "source": [
    "def n_gram(text,n):\n",
    "    return[text[x:x+n] for x in range(len(text) -n +1)]"
   ]
  },
  {
   "cell_type": "code",
   "execution_count": 4,
   "metadata": {},
   "outputs": [
    {
     "data": {
      "text/plain": [
       "['昨日',\n",
       " '日、',\n",
       " '、優',\n",
       " '優太',\n",
       " '太は',\n",
       " 'はプ',\n",
       " 'プロ',\n",
       " 'ログ',\n",
       " 'グラ',\n",
       " 'ラミ',\n",
       " 'ミン',\n",
       " 'ング',\n",
       " 'グの',\n",
       " 'の発',\n",
       " '発表',\n",
       " '表会',\n",
       " '会で',\n",
       " 'でし',\n",
       " 'した',\n",
       " 'た。',\n",
       " '。と',\n",
       " 'とて',\n",
       " 'ても',\n",
       " 'も良',\n",
       " '良く',\n",
       " 'くで',\n",
       " 'でき',\n",
       " 'きま',\n",
       " 'まし',\n",
       " 'した',\n",
       " 'た。']"
      ]
     },
     "execution_count": 4,
     "metadata": {},
     "output_type": "execute_result"
    }
   ],
   "source": [
    "n_gram('昨日、優太はプログラミングの発表会でした。とても良くできました。',2)"
   ]
  },
  {
   "cell_type": "markdown",
   "metadata": {},
   "source": [
    "# MeCabオプション"
   ]
  },
  {
   "cell_type": "markdown",
   "metadata": {},
   "source": [
    "### MeCabを使用するには、python用のパッケージを用いる。オプションによってparseした時の結果が異なる。"
   ]
  },
  {
   "cell_type": "code",
   "execution_count": 17,
   "metadata": {},
   "outputs": [
    {
     "name": "stdout",
     "output_type": "stream",
     "text": [
      "坂本勇人\t名詞,固有名詞,人名,一般,*,*,坂本勇人,サカモトハヤト,サカモトハヤト\n",
      "選手\t名詞,一般,*,*,*,*,選手,センシュ,センシュ\n",
      "チャンス\t名詞,一般,*,*,*,*,チャンス,チャンス,チャンス\n",
      "で\t助詞,格助詞,一般,*,*,*,で,デ,デ\n",
      "打ち\t動詞,自立,*,*,五段・タ行,連用形,打つ,ウチ,ウチ\n",
      "損じる\t動詞,自立,*,*,一段,基本形,損じる,ソンジル,ソンジル\n",
      "EOS\n",
      "\n",
      "\n",
      "坂本勇人\tサカモトハヤト\t坂本勇人\t名詞-固有名詞-人名-一般\t\t\n",
      "選手\tセンシュ\t選手\t名詞-一般\t\t\n",
      "チャンス\tチャンス\tチャンス\t名詞-一般\t\t\n",
      "で\tデ\tで\t助詞-格助詞-一般\t\t\n",
      "打ち\tウチ\t打つ\t動詞-自立\t五段・タ行\t連用形\n",
      "損じる\tソンジル\t損じる\t動詞-自立\t一段\t基本形\n",
      "EOS\n",
      "\n",
      "\n",
      "坂本勇人 選手 チャンス で 打ち 損じる \n",
      "\n",
      "\n"
     ]
    }
   ],
   "source": [
    "import MeCab\n",
    "m=MeCab.Tagger('')\n",
    "print(m.parse('坂本勇人選手チャンスで打ち損じる'))\n",
    "print()\n",
    "m=MeCab.Tagger('-Ochasen')\n",
    "print(m.parse('坂本勇人選手チャンスで打ち損じる'))\n",
    "print()\n",
    "m=MeCab.Tagger('-Owakati')\n",
    "print(m.parse('坂本勇人選手チャンスで打ち損じる'))\n",
    "print()"
   ]
  },
  {
   "cell_type": "markdown",
   "metadata": {},
   "source": [
    "# MeCabの辞書"
   ]
  },
  {
   "cell_type": "markdown",
   "metadata": {},
   "source": [
    "### 辞書のpath[ -d /usr/lib/x86_64-linux-gnu/mecab/dic/mecab-ipadic-neologd ]"
   ]
  },
  {
   "cell_type": "code",
   "execution_count": 19,
   "metadata": {},
   "outputs": [
    {
     "name": "stdout",
     "output_type": "stream",
     "text": [
      "坂本勇人\t名詞,固有名詞,人名,一般,*,*,坂本勇人,サカモトハヤト,サカモトハヤト\n",
      "選手\t名詞,一般,*,*,*,*,選手,センシュ,センシュ\n",
      "チャンス\t名詞,一般,*,*,*,*,チャンス,チャンス,チャンス\n",
      "で\t助詞,格助詞,一般,*,*,*,で,デ,デ\n",
      "打ち\t動詞,自立,*,*,五段・タ行,連用形,打つ,ウチ,ウチ\n",
      "損じる\t動詞,自立,*,*,一段,基本形,損じる,ソンジル,ソンジル\n",
      "EOS\n",
      "\n",
      "坂本勇人\t名詞,固有名詞,人名,一般,*,*,坂本勇人,サカモトハヤト,サカモトハヤト\n",
      "選手\t名詞,一般,*,*,*,*,選手,センシュ,センシュ\n",
      "チャンス\t名詞,一般,*,*,*,*,チャンス,チャンス,チャンス\n",
      "で\t助詞,格助詞,一般,*,*,*,で,デ,デ\n",
      "打ち\t動詞,自立,*,*,五段・タ行,連用形,打つ,ウチ,ウチ\n",
      "損じる\t動詞,自立,*,*,一段,基本形,損じる,ソンジル,ソンジル\n",
      "EOS\n",
      "\n"
     ]
    }
   ],
   "source": [
    "import MeCab\n",
    "m=MeCab.Tagger('')\n",
    "print(m.parse('坂本勇人選手チャンスで打ち損じる'))\n",
    "\n",
    "m=MeCab.Tagger('-d /usr/lib/x86_64-linux-gnu/mecab/dic/mecab-ipadic-neologd')\n",
    "print(m.parse('坂本勇人選手チャンスで打ち損じる'))"
   ]
  },
  {
   "cell_type": "markdown",
   "metadata": {},
   "source": [
    "# mojimoji"
   ]
  },
  {
   "cell_type": "code",
   "execution_count": 13,
   "metadata": {},
   "outputs": [
    {
     "name": "stdout",
     "output_type": "stream",
     "text": [
      "ｶｯｺいいiphone11を買ったんだ\n",
      "カッコいいiphone11を買ったんだ\n"
     ]
    }
   ],
   "source": [
    "import mojimoji\n",
    "text =  'カッコいいｉＰｈｏｎｅ１１を買ったんだ'\n",
    "print(mojimoji.zen_to_han(text).lower())\n",
    "print(mojimoji.zen_to_han(text,kana=False).lower())"
   ]
  },
  {
   "cell_type": "code",
   "execution_count": 15,
   "metadata": {},
   "outputs": [
    {
     "name": "stdout",
     "output_type": "stream",
     "text": [
      "カッコいいＩＰＨＯＮＥ１１を買ったんだ\n",
      "ｶｯｺいいＩＰＨＯＮＥ１１を買ったんだ\n"
     ]
    }
   ],
   "source": [
    "text = 'ｶｯｺいいiphone11を買ったんだ'\n",
    "print(mojimoji.han_to_zen(text).upper())\n",
    "print(mojimoji.han_to_zen(text,kana=False).upper())"
   ]
  },
  {
   "cell_type": "code",
   "execution_count": null,
   "metadata": {},
   "outputs": [],
   "source": []
  }
 ],
 "metadata": {
  "kernelspec": {
   "display_name": "Python 3",
   "language": "python",
   "name": "python3"
  },
  "language_info": {
   "codemirror_mode": {
    "name": "ipython",
    "version": 3
   },
   "file_extension": ".py",
   "mimetype": "text/x-python",
   "name": "python",
   "nbconvert_exporter": "python",
   "pygments_lexer": "ipython3",
   "version": "3.8.5"
  }
 },
 "nbformat": 4,
 "nbformat_minor": 4
}
