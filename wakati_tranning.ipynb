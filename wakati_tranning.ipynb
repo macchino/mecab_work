{
 "cells": [
  {
   "cell_type": "code",
   "execution_count": 1,
   "metadata": {},
   "outputs": [],
   "source": [
    "import numpy as np"
   ]
  },
  {
   "cell_type": "code",
   "execution_count": 2,
   "metadata": {},
   "outputs": [],
   "source": [
    "def text_to_words(text,stop_word_pass='./Japanese.txt'):\n",
    "#     stopword listを作る\n",
    "    stopword_list=[]\n",
    "#     stop_word_passをreadlineで全て読みstopword_listに格納\n",
    "    with open(stop_word_pass,'r') as f:\n",
    "        stopword_list = f.readlines()\n",
    "#     内包表記でstripにて空白を削除してstopword_listに戻す\n",
    "    stopword_list = [x.strip()for x in stopword_list if x.strip()]\n",
    "    \n",
    "#     形態素解析を始める\n",
    "# MeCab.Tagger()で形態素解析をするための辞書を指定\n",
    "    m = MeCab.Tagger('-d /usr/lib/x86_64-linux-gnu/mecab/dic/mecab-ipadic-neologd')\n",
    "#     m.(tagger)parseで、指定した辞書を使用して、文字列やテキストファイルを形態素解析する\n",
    "    m.parse('')\n",
    "#     text=normalize_text(text)\n",
    "    text=mojimoji.zen_to_han(text, kana=False)\n",
    "    m_text = m.parse(text)\n",
    "    basic_words = []\n",
    "#     mecabの出力結果を単語ごとにリスト化\n",
    "    m_text=m_text.split('\\n')\n",
    "    for row in m_text:\n",
    "#     tab区切りで形態素、その品詞などの内容と分かれているので単語部のみ取得\n",
    "        word =row.split(\"\\t\")[0]\n",
    "#         最終行はEOS\n",
    "        if word ==\"EOS\":\n",
    "            break\n",
    "        else:\n",
    "            pos=row.split('\\t')[1]\n",
    "            slice_ =pos.split(',')\n",
    "#             品詞を取得する\n",
    "            parts=slice_[0]\n",
    "            if parts == '記号':\n",
    "                continue\n",
    "                \n",
    "#             活用語の場合は活用指定のない原型を取得する\n",
    "            elif slice_[0] in ('形容詞','動詞') and slice_[-3] not in stopword_list:\n",
    "                basic_words.append(slice_[-3])\n",
    "            \n",
    "#             活用しない語についてはそのままの語を取得する\n",
    "            elif slice_[0] == '名詞' and word not in stopword_list:\n",
    "                basic_words.append(word)\n",
    "    basic_words = ' '.join(basic_words)\n",
    "    return basic_words"
   ]
  },
  {
   "cell_type": "code",
   "execution_count": 3,
   "metadata": {},
   "outputs": [
    {
     "ename": "NameError",
     "evalue": "name 'MeCab' is not defined",
     "output_type": "error",
     "traceback": [
      "\u001b[0;31m\u001b[0m",
      "\u001b[0;31mNameError\u001b[0mTraceback (most recent call last)",
      "\u001b[0;32m<ipython-input-3-f69b8182ddfb>\u001b[0m in \u001b[0;36m<module>\u001b[0;34m\u001b[0m\n\u001b[0;32m----> 1\u001b[0;31m \u001b[0mtext_to_words\u001b[0m\u001b[0;34m(\u001b[0m\u001b[0;34m'私はpythonを勉強しています。とても楽しいです'\u001b[0m\u001b[0;34m)\u001b[0m\u001b[0;34m\u001b[0m\u001b[0;34m\u001b[0m\u001b[0m\n\u001b[0m",
      "\u001b[0;32m<ipython-input-2-559ae93faf46>\u001b[0m in \u001b[0;36mtext_to_words\u001b[0;34m(text, stop_word_pass)\u001b[0m\n\u001b[1;32m     10\u001b[0m \u001b[0;31m#     形態素解析を始める\u001b[0m\u001b[0;34m\u001b[0m\u001b[0;34m\u001b[0m\u001b[0;34m\u001b[0m\u001b[0m\n\u001b[1;32m     11\u001b[0m \u001b[0;31m# MeCab.Tagger()で形態素解析をするための辞書を指定\u001b[0m\u001b[0;34m\u001b[0m\u001b[0;34m\u001b[0m\u001b[0;34m\u001b[0m\u001b[0m\n\u001b[0;32m---> 12\u001b[0;31m     \u001b[0mm\u001b[0m \u001b[0;34m=\u001b[0m \u001b[0mMeCab\u001b[0m\u001b[0;34m.\u001b[0m\u001b[0mTagger\u001b[0m\u001b[0;34m(\u001b[0m\u001b[0;34m'-d /usr/lib/x86_64-linux-gnu/mecab/dic/mecab-ipadic-neologd'\u001b[0m\u001b[0;34m)\u001b[0m\u001b[0;34m\u001b[0m\u001b[0;34m\u001b[0m\u001b[0m\n\u001b[0m\u001b[1;32m     13\u001b[0m \u001b[0;31m#     m.(tagger)parseで、指定した辞書を使用して、文字列やテキストファイルを形態素解析する\u001b[0m\u001b[0;34m\u001b[0m\u001b[0;34m\u001b[0m\u001b[0;34m\u001b[0m\u001b[0m\n\u001b[1;32m     14\u001b[0m     \u001b[0mm\u001b[0m\u001b[0;34m.\u001b[0m\u001b[0mparse\u001b[0m\u001b[0;34m(\u001b[0m\u001b[0;34m''\u001b[0m\u001b[0;34m)\u001b[0m\u001b[0;34m\u001b[0m\u001b[0;34m\u001b[0m\u001b[0m\n",
      "\u001b[0;31mNameError\u001b[0m: name 'MeCab' is not defined"
     ]
    }
   ],
   "source": [
    "text_to_words('私はpythonを勉強しています。とても楽しいです')"
   ]
  },
  {
   "cell_type": "code",
   "execution_count": null,
   "metadata": {},
   "outputs": [],
   "source": []
  }
 ],
 "metadata": {
  "kernelspec": {
   "display_name": "Python 3",
   "language": "python",
   "name": "python3"
  },
  "language_info": {
   "codemirror_mode": {
    "name": "ipython",
    "version": 3
   },
   "file_extension": ".py",
   "mimetype": "text/x-python",
   "name": "python",
   "nbconvert_exporter": "python",
   "pygments_lexer": "ipython3",
   "version": "3.8.5"
  }
 },
 "nbformat": 4,
 "nbformat_minor": 4
}
