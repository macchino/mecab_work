{
 "cells": [
  {
   "cell_type": "code",
   "execution_count": 1,
   "metadata": {},
   "outputs": [
    {
     "name": "stdout",
     "output_type": "stream",
     "text": [
      "No\n",
      "Yes\n",
      "No\n",
      "Yes\n",
      "No\n"
     ]
    }
   ],
   "source": [
    "def deep_first_search(H, W, S):\n",
    "    \"\"\"\n",
    "    H: 高さ\n",
    "    W: 幅\n",
    "    文字列のリスト\n",
    "    \"\"\"\n",
    "    # write code here\n",
    "    def dfs(x, y): # gまで到達できたらTrue\n",
    "        if any((x < 0, x >= W, y < 0, y >= H)):\n",
    "            return False\n",
    "        if S[y][x] == '#':\n",
    "            return False\n",
    "        if S[y][x] == 'g':\n",
    "            return True\n",
    "        tmp_y = S[y] # ....\n",
    "        tmp_y = tmp_y[:x] + '#' + tmp_y[(x+1):] # ..#.\n",
    "        S[y] = tmp_y\n",
    "        return dfs(x-1, y) | dfs(x + 1,y) | dfs(x, y-1) | dfs(x, y+1)\n",
    "\n",
    "    for i in range(H):\n",
    "        for j in range(W):\n",
    "            if S[i][j] == 's':\n",
    "                if dfs(i, j):\n",
    "                    print('Yes')\n",
    "                else:\n",
    "                    print('No')\n",
    "\n",
    "# spots[0]\n",
    "# ...S\n",
    "# ....\n",
    "# ....\n",
    "# .g..    \n",
    "\n",
    "\n",
    "Hs = [4, 4, 10, 10, 1]\n",
    "Ws = [5, 4, 10, 10, 10]\n",
    "spots = [\n",
    "    ['s####', '....#', '#####', '#...g'],\n",
    "    ['...s', '....', '....', '.g..'],\n",
    "    ['s.........', '#########.', '#.......#.', '#..####.#.', '##....#.#.', '#####.#.#.', 'g.#.#.#.#.', '#.#.#.#.#.', '###.#.#.#.', '#.....#...'],\n",
    "    ['s.........', '#########.', '#.......#.', '#..####.#.', '##....#.#.', '#####.#.#.', 'g.#.#.#.#.', '#.#.#.#.#.', '#.#.#.#.#.', '#.....#...'],\n",
    "    ['s..####..g']\n",
    "]\n",
    "deep_first_search(Hs[0], Ws[0], spots[0]) # Noと表示\n",
    "deep_first_search(Hs[1], Ws[1], spots[1]) # Yesと表示\n",
    "deep_first_search(Hs[2], Ws[2], spots[2]) # Noと表示\n",
    "deep_first_search(Hs[3], Ws[3], spots[3]) # Yesと表示\n",
    "deep_first_search(Hs[4], Ws[4], spots[4]) # Noと表示\n",
    "\n"
   ]
  },
  {
   "cell_type": "code",
   "execution_count": null,
   "metadata": {},
   "outputs": [],
   "source": []
  }
 ],
 "metadata": {
  "kernelspec": {
   "display_name": "Python 3",
   "language": "python",
   "name": "python3"
  },
  "language_info": {
   "codemirror_mode": {
    "name": "ipython",
    "version": 3
   },
   "file_extension": ".py",
   "mimetype": "text/x-python",
   "name": "python",
   "nbconvert_exporter": "python",
   "pygments_lexer": "ipython3",
   "version": "3.8.5"
  }
 },
 "nbformat": 4,
 "nbformat_minor": 4
}
