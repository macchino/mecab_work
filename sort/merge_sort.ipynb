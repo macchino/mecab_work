{
 "cells": [
  {
   "cell_type": "code",
   "execution_count": 1,
   "metadata": {},
   "outputs": [
    {
     "name": "stdout",
     "output_type": "stream",
     "text": [
      "[1, 1, 2, 2, 2, 3, 4, 4, 5, 5, 6, 7, 9]\n"
     ]
    }
   ],
   "source": [
    "# マージソート\n",
    "\n",
    "def merge_sort(arr):\n",
    "    if len(arr) > 1:\n",
    "        res = [] # 返り値の配列\n",
    "        mid = len(arr) // 2 # 配列のまん中の値\n",
    "        L = arr[:mid] # [1,2,3,4] => [1,2]\n",
    "        R = arr[mid:] # [1,2,3,4] => [3,4]\n",
    "        L = merge_sort(L) # \n",
    "        # [4,1,3,2]\n",
    "        # L: 4,1, R: 3, 2 (merge_sort: 1回目)\n",
    "        # merge_sort(L(4,1)), merge_sort(R(3,2)) (merge_sort: 1回目)\n",
    "        # L: 4, R:1     L: 3, R: 2 (merge_sort(2回目))\n",
    "        # merge_sort(L(4)), merge_sort(R(1))      merge_sort(L(3)), merge_sort(R(2)) (merge_sort(2回目))\n",
    "        # 4,1    3,2(merge_sort(3回目))\n",
    "        # 4, 1 => 1,4  3,2 => 2,3(merge_sort(2回目))\n",
    "        # L(1,4) R(3,2) =>  1,2,3,4 (merge_sort(1回目))\n",
    "        # 4,1,3,2 => 1,2,3,4\n",
    "\n",
    "        R = merge_sort(R) # [2] => 2\n",
    "        i = j = 0 # iはLを探索するインデックス, jはRを探索するインデックス\n",
    "        while i < len(L) and j < len(R):\n",
    "            if L[i] < R[j]:\n",
    "                res.append(L[i])\n",
    "                i += 1\n",
    "            elif L[i] > R[j]:\n",
    "                res.append(R[j])\n",
    "                j += 1\n",
    "            else:\n",
    "                res.append(L[i])\n",
    "                i += 1\n",
    "        while i < len(L):\n",
    "            res.append(L[i])\n",
    "            i += 1\n",
    "        while j < len(R):\n",
    "            res.append(R[j])\n",
    "            j += 1\n",
    "        return res\n",
    "    else:\n",
    "        return arr\n",
    "    \n",
    "list_a = [5,7,6,4,5,1,2,3,2,2,9,1,4]\n",
    "print(merge_sort(list_a))"
   ]
  },
  {
   "cell_type": "code",
   "execution_count": null,
   "metadata": {},
   "outputs": [],
   "source": []
  }
 ],
 "metadata": {
  "kernelspec": {
   "display_name": "Python 3",
   "language": "python",
   "name": "python3"
  },
  "language_info": {
   "codemirror_mode": {
    "name": "ipython",
    "version": 3
   },
   "file_extension": ".py",
   "mimetype": "text/x-python",
   "name": "python",
   "nbconvert_exporter": "python",
   "pygments_lexer": "ipython3",
   "version": "3.8.5"
  }
 },
 "nbformat": 4,
 "nbformat_minor": 4
}
