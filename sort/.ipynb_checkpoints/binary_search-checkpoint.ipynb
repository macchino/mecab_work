{
 "cells": [
  {
   "cell_type": "code",
   "execution_count": 2,
   "metadata": {},
   "outputs": [
    {
     "name": "stdout",
     "output_type": "stream",
     "text": [
      "4\n"
     ]
    }
   ],
   "source": [
    "# 2分探索\n",
    "\n",
    "def binary_search(arr, target): # arrが昇順にソートされた配列、targe:配列にある探索したい値\n",
    "    left = 0  #探索の左端\n",
    "    right = len(arr) - 1 #探索の右端\n",
    "    for i in range(len(arr)): # 配列の長さ分実行すれば十分\n",
    "        search_idx = (left + right) // 2 # 中間値(探索のインデックス)\n",
    "        if arr[search_idx] == target:\n",
    "            return search_idx\n",
    "        elif arr[search_idx] > target: # 探索値より大きかった場合\n",
    "            right = search_idx - 1\n",
    "        elif arr[search_idx] < target:\n",
    "            left = search_idx + 1\n",
    "        if left > right:\n",
    "            return -1\n",
    "\n",
    "a = [1, 2, 3, 4, 5, 6, 8]\n",
    "print(binary_search(a, 5))"
   ]
  },
  {
   "cell_type": "code",
   "execution_count": null,
   "metadata": {},
   "outputs": [],
   "source": []
  }
 ],
 "metadata": {
  "kernelspec": {
   "display_name": "Python 3",
   "language": "python",
   "name": "python3"
  },
  "language_info": {
   "codemirror_mode": {
    "name": "ipython",
    "version": 3
   },
   "file_extension": ".py",
   "mimetype": "text/x-python",
   "name": "python",
   "nbconvert_exporter": "python",
   "pygments_lexer": "ipython3",
   "version": "3.8.5"
  }
 },
 "nbformat": 4,
 "nbformat_minor": 4
}
