{
 "cells": [
  {
   "cell_type": "code",
   "execution_count": 9,
   "metadata": {},
   "outputs": [],
   "source": [
    "import urllib.request\n",
    "import json\n",
    "import time\n",
    "import glob\n",
    "import pandas as pd"
   ]
  },
  {
   "cell_type": "code",
   "execution_count": 10,
   "metadata": {},
   "outputs": [],
   "source": [
    "start = '2020-01-01'\n",
    "end = '2020-12-31'\n",
    "meetings = ['本会議', '経済産業委員会']\n",
    "houses = ['参議院', '衆議院']"
   ]
  },
  {
   "cell_type": "code",
   "execution_count": 11,
   "metadata": {},
   "outputs": [],
   "source": [
    "def create_url(start, end, meetings, houses, start_record=1):\n",
    "    meetings = ' '.join(meetings)\n",
    "    houses = ' '.join(houses)\n",
    "    url = 'from={}&until={}&nameOfMeeting={}&nameOfHouse={}&startRecord={}&recordPacking=json'.\\\n",
    "    format(start, end, meetings, houses, start_record)\n",
    "    url = 'https://kokkai.ndl.go.jp/api/meeting?{}'.format(urllib.parse.quote(url))\n",
    "    return url"
   ]
  },
  {
   "cell_type": "code",
   "execution_count": 12,
   "metadata": {},
   "outputs": [],
   "source": [
    "def record_nums(json_data):\n",
    "    '''\n",
    "    numberOfRecords: 総結果件数\n",
    "    numberOfReturn: 返戻件数\n",
    "    startRecord: 開始位置\n",
    "    nextRecordPosition: 次開始位置（※存在する場合のみ）\n",
    "    '''\n",
    "    return json_data['numberOfRecords'], \\\n",
    "           json_data['numberOfReturn'], \\\n",
    "           json_data['startRecord'], \\\n",
    "           json_data['nextRecordPosition']"
   ]
  },
  {
   "cell_type": "code",
   "execution_count": 13,
   "metadata": {},
   "outputs": [
    {
     "name": "stdout",
     "output_type": "stream",
     "text": [
      "records_num:120 startRecord:1\n",
      "records_num:120 startRecord:4\n",
      "records_num:120 startRecord:7\n",
      "records_num:120 startRecord:10\n",
      "records_num:120 startRecord:13\n",
      "records_num:120 startRecord:16\n",
      "records_num:120 startRecord:19\n",
      "records_num:120 startRecord:22\n",
      "records_num:120 startRecord:25\n",
      "records_num:120 startRecord:28\n",
      "records_num:120 startRecord:31\n",
      "records_num:120 startRecord:34\n",
      "records_num:120 startRecord:37\n",
      "records_num:120 startRecord:40\n",
      "records_num:120 startRecord:43\n",
      "records_num:120 startRecord:46\n",
      "records_num:120 startRecord:49\n",
      "records_num:120 startRecord:52\n",
      "records_num:120 startRecord:55\n",
      "records_num:120 startRecord:58\n",
      "records_num:120 startRecord:61\n",
      "records_num:120 startRecord:64\n",
      "records_num:120 startRecord:67\n",
      "records_num:120 startRecord:70\n",
      "records_num:120 startRecord:73\n",
      "records_num:120 startRecord:76\n",
      "records_num:120 startRecord:79\n",
      "records_num:120 startRecord:82\n",
      "records_num:120 startRecord:85\n",
      "records_num:120 startRecord:88\n",
      "records_num:120 startRecord:91\n",
      "records_num:120 startRecord:94\n",
      "records_num:120 startRecord:97\n",
      "records_num:120 startRecord:100\n",
      "records_num:120 startRecord:103\n",
      "records_num:120 startRecord:106\n",
      "records_num:120 startRecord:109\n",
      "records_num:120 startRecord:112\n",
      "records_num:120 startRecord:115\n",
      "records_num:120 startRecord:118\n",
      "done!\n"
     ]
    }
   ],
   "source": [
    "url = create_url(start, end,  meetings, houses)\n",
    "try:\n",
    "    res = urllib.request.Request(url) #urlリクエスト\n",
    "    # url リクエストを開く\n",
    "    with urllib.request.urlopen(res) as r:\n",
    "        # jsonとして開く\n",
    "        json_data = json.load(r)\n",
    "        # jsonのヘッダ部分のみを取得する\n",
    "        records_num, return_num, start_record, next_position = record_nums(json_data)\n",
    "        print('records_num:{} startRecord:{}'.format(records_num, start_record))\n",
    "        while next_position is not None:\n",
    "            # 会議単位で保管するためにmeetingRecordごとに保管する\n",
    "            for content in json_data['meetingRecord']:\n",
    "                # とりたい会議以外が取れる場合があるので、その場合は除く\n",
    "                if content['nameOfMeeting'] not in meetings:\n",
    "                    continue\n",
    "                \n",
    "                # 参議院と衆議院でファイル名を分ける\n",
    "                file_path = './input/{}_sanin_{}.json' if content['nameOfHouse'] == '参議院' \\\n",
    "                       else './input/{}_syuin_{}.json'\n",
    "                file_path = file_path.format(content['date'], content['nameOfMeeting'])\n",
    "                # jsonを保管する\n",
    "                with open(file_path, 'w') as f:\n",
    "                    content = json.dumps(content)\n",
    "                    f.write(content)\n",
    "                    \n",
    "                time.sleep(2)\n",
    "            \n",
    "            # 次のurlを作成し、リクエストを投げる\n",
    "            url = create_url(start, end,  meetings, houses, next_position)\n",
    "            res = urllib.request.Request(url)\n",
    "            with urllib.request.urlopen(res) as r:\n",
    "                json_data = json.load(r)\n",
    "                records_num, return_num, start_record, next_position = record_nums(json_data)\n",
    "                print('records_num:{} startRecord:{}'.format(records_num, start_record))\n",
    "        else:\n",
    "            print('done!')\n",
    "                    \n",
    "except urllib.error.HTTPError as err:\n",
    "    print(err.code)\n",
    "except urllib.error.URLError as err:\n",
    "    print(err.reason)"
   ]
  },
  {
   "cell_type": "code",
   "execution_count": 14,
   "metadata": {},
   "outputs": [],
   "source": [
    "file_paths = glob.glob('./input/*.json')"
   ]
  },
  {
   "cell_type": "code",
   "execution_count": 15,
   "metadata": {},
   "outputs": [],
   "source": [
    "kokkai_list = []\n",
    "for file_path in file_paths:\n",
    "    with open(file_path, 'r') as f:\n",
    "        json_data = json.load(f)\n",
    "        date = json_data['date']\n",
    "        house = json_data['nameOfHouse']\n",
    "        meeting = json_data['nameOfMeeting']\n",
    "        texts = [[date, house, meeting, x['speechOrder'], x['speech']] for x in json_data['speechRecord']]\n",
    "        kokkai_list.extend(texts)"
   ]
  },
  {
   "cell_type": "code",
   "execution_count": 16,
   "metadata": {},
   "outputs": [],
   "source": [
    "df_kokkai = pd.DataFrame(kokkai_list, columns=['date', 'house', 'meeting', 'speech_order', 'text'])\n",
    "df_kokkai.to_csv('./data/kokkai.csv', index=False)"
   ]
  },
  {
   "cell_type": "code",
   "execution_count": null,
   "metadata": {},
   "outputs": [],
   "source": []
  }
 ],
 "metadata": {
  "kernelspec": {
   "display_name": "Python 3",
   "language": "python",
   "name": "python3"
  },
  "language_info": {
   "codemirror_mode": {
    "name": "ipython",
    "version": 3
   },
   "file_extension": ".py",
   "mimetype": "text/x-python",
   "name": "python",
   "nbconvert_exporter": "python",
   "pygments_lexer": "ipython3",
   "version": "3.8.5"
  }
 },
 "nbformat": 4,
 "nbformat_minor": 4
}
